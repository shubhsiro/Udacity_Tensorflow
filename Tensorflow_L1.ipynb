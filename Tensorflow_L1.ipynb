{
  "nbformat": 4,
  "nbformat_minor": 0,
  "metadata": {
    "colab": {
      "name": "Tensorflow_L1.ipynb",
      "provenance": [],
      "authorship_tag": "ABX9TyN159XZ578ZBlCINZbU4mf2",
      "include_colab_link": true
    },
    "kernelspec": {
      "name": "python3",
      "display_name": "Python 3"
    },
    "language_info": {
      "name": "python"
    }
  },
  "cells": [
    {
      "cell_type": "markdown",
      "metadata": {
        "id": "view-in-github",
        "colab_type": "text"
      },
      "source": [
        "<a href=\"https://colab.research.google.com/github/shubhsiro/udacity_tensorflow/blob/lesson1/Tensorflow_L1.ipynb\" target=\"_parent\"><img src=\"https://colab.research.google.com/assets/colab-badge.svg\" alt=\"Open In Colab\"/></a>"
      ]
    },
    {
      "cell_type": "code",
      "metadata": {
        "id": "QQw2dEACZtFH"
      },
      "source": [
        "import tensorflow as tf"
      ],
      "execution_count": 1,
      "outputs": []
    },
    {
      "cell_type": "code",
      "metadata": {
        "id": "mTKZNJSKZzp-"
      },
      "source": [
        "import numpy as np\n",
        "import logging\n",
        "logger = tf.get_logger()\n",
        "logger.setLevel(logging.ERROR)"
      ],
      "execution_count": 2,
      "outputs": []
    },
    {
      "cell_type": "code",
      "metadata": {
        "id": "2oZjDQ9RZ15a"
      },
      "source": [
        "celsius_q    = np.array([-40, -10,  0,  8, 15, 22,  38],  dtype=float)\n",
        "fahrenheit_a = np.array([-40,  14, 32, 46, 59, 72, 100],  dtype=float)"
      ],
      "execution_count": 3,
      "outputs": []
    },
    {
      "cell_type": "code",
      "metadata": {
        "colab": {
          "base_uri": "https://localhost:8080/"
        },
        "id": "LoBl4M6aZ46H",
        "outputId": "79f232af-fa4d-4455-8d22-0b275613dec8"
      },
      "source": [
        "for i,c in enumerate(celsius_q):\n",
        "  print(\"{} degrees Celcius = {} degrees Fahrenheit\".format(c,fahrenheit_a[i]))"
      ],
      "execution_count": 7,
      "outputs": [
        {
          "output_type": "stream",
          "text": [
            "-40.0 degrees Celcius = -40.0 degrees Fahrenheit\n",
            "-10.0 degrees Celcius = 14.0 degrees Fahrenheit\n",
            "0.0 degrees Celcius = 32.0 degrees Fahrenheit\n",
            "8.0 degrees Celcius = 46.0 degrees Fahrenheit\n",
            "15.0 degrees Celcius = 59.0 degrees Fahrenheit\n",
            "22.0 degrees Celcius = 72.0 degrees Fahrenheit\n",
            "38.0 degrees Celcius = 100.0 degrees Fahrenheit\n"
          ],
          "name": "stdout"
        }
      ]
    },
    {
      "cell_type": "markdown",
      "metadata": {
        "id": "twNLbkl3a79T"
      },
      "source": [
        "## Create the model"
      ]
    },
    {
      "cell_type": "markdown",
      "metadata": {
        "id": "uHlzNPsrbKHs"
      },
      "source": [
        "### Build Model"
      ]
    },
    {
      "cell_type": "code",
      "metadata": {
        "id": "Hm0MMbIDa8xl"
      },
      "source": [
        "l0=tf.keras.layers.Dense(units=1, input_shape=[1])"
      ],
      "execution_count": 10,
      "outputs": []
    },
    {
      "cell_type": "markdown",
      "metadata": {
        "id": "3IEE7YTadZZL"
      },
      "source": [
        "### Assemble layers into the model"
      ]
    },
    {
      "cell_type": "code",
      "metadata": {
        "id": "XLIMLJ78bTBa"
      },
      "source": [
        "model=tf.keras.Sequential([l0])"
      ],
      "execution_count": 11,
      "outputs": []
    },
    {
      "cell_type": "markdown",
      "metadata": {
        "id": "W6xemhBsdrtv"
      },
      "source": [
        "### Compile the model, with loss and optimizer functions"
      ]
    },
    {
      "cell_type": "code",
      "metadata": {
        "id": "MHR4gPZjcDez"
      },
      "source": [
        "model.compile(loss='mean_squared_error',\n",
        "              optimizer=tf.keras.optimizers.Adam(0.1))"
      ],
      "execution_count": 12,
      "outputs": []
    },
    {
      "cell_type": "markdown",
      "metadata": {
        "id": "L8u66JiBd9N-"
      },
      "source": [
        "### Train the model"
      ]
    },
    {
      "cell_type": "code",
      "metadata": {
        "colab": {
          "base_uri": "https://localhost:8080/"
        },
        "id": "rSv_gbLpd5JX",
        "outputId": "d6f00650-4bf9-4e38-d7be-d3677ee8b8c5"
      },
      "source": [
        "history = model.fit(celsius_q, fahrenheit_a, epochs=500, verbose=False)\n",
        "print(\"Finished training the model\")"
      ],
      "execution_count": 13,
      "outputs": [
        {
          "output_type": "stream",
          "text": [
            "Finished training the model\n"
          ],
          "name": "stdout"
        }
      ]
    },
    {
      "cell_type": "markdown",
      "metadata": {
        "id": "4CUMH3B2eLxl"
      },
      "source": [
        "### Display Training Statistics"
      ]
    },
    {
      "cell_type": "code",
      "metadata": {
        "colab": {
          "base_uri": "https://localhost:8080/",
          "height": 300
        },
        "id": "kdu6o105eBSd",
        "outputId": "acd6e8db-e587-49ba-a11a-db587bd2d1e2"
      },
      "source": [
        "import matplotlib.pyplot as plt\n",
        "plt.xlabel('Epoch Number')\n",
        "plt.ylabel(\"Loss Magnitude\")\n",
        "plt.plot(history.history['loss'])"
      ],
      "execution_count": 14,
      "outputs": [
        {
          "output_type": "execute_result",
          "data": {
            "text/plain": [
              "[<matplotlib.lines.Line2D at 0x7faf77f403d0>]"
            ]
          },
          "metadata": {
            "tags": []
          },
          "execution_count": 14
        },
        {
          "output_type": "display_data",
          "data": {
            "image/png": "[encoded data removed]",
            "text/plain": [
              "<Figure size 432x288 with 1 Axes>"
            ]
          },
          "metadata": {
            "tags": [],
            "needs_background": "light"
          }
        }
      ]
    },
    {
      "cell_type": "code",
      "metadata": {
        "colab": {
          "base_uri": "https://localhost:8080/"
        },
        "id": "zEqO0o2WeRmg",
        "outputId": "0cc86fea-5b2e-4f5b-8be9-e31cc0f8a8cb"
      },
      "source": [
        "print(model.predict([100.0]))"
      ],
      "execution_count": 15,
      "outputs": [
        {
          "output_type": "stream",
          "text": [
            "[[211.3333]]\n"
          ],
          "name": "stdout"
        }
      ]
    },
    {
      "cell_type": "markdown",
      "metadata": {
        "id": "qFhyxX-aec7C"
      },
      "source": [
        "### Looking at the layer weights"
      ]
    },
    {
      "cell_type": "code",
      "metadata": {
        "colab": {
          "base_uri": "https://localhost:8080/"
        },
        "id": "wIqcgoI7eY1o",
        "outputId": "ff27cbde-0c5a-4d86-fb84-d588db6f0189"
      },
      "source": [
        "print(\"These are the layer variables: {}\".format(l0.get_weights()))"
      ],
      "execution_count": 16,
      "outputs": [
        {
          "output_type": "stream",
          "text": [
            "These are the layer variables: [array([[1.8212647]], dtype=float32), array([29.206821], dtype=float32)]\n"
          ],
          "name": "stdout"
        }
      ]
    },
    {
      "cell_type": "code",
      "metadata": {
        "id": "ufvRYetaekSH"
      },
      "source": [
        ""
      ],
      "execution_count": null,
      "outputs": []
    }
  ]
}